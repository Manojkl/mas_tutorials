{
 "cells": [
  {
   "cell_type": "markdown",
   "metadata": {},
   "source": [
    "# Domestic Knowledge Base"
   ]
  },
  {
   "cell_type": "markdown",
   "metadata": {},
   "source": [
    "In this tutorial, we will look into:\n",
    "\n",
    "1. The building blocks of our domestic knowledge base\n",
    "2. The `mas_knowledge_base` library, which provides interfaces for interacting with the knowledge base\n",
    "3. Various examples of how to use the knowledge base\n",
    "4. How the knowledge base is embedded into our domestic architecture in order to allow our robots to make informed decisions"
   ]
  },
  {
   "cell_type": "markdown",
   "metadata": {},
   "source": [
    "## List of contents\n",
    "\n",
    "1. [Knowledge Base Introduction](#Knowledge-Base-Introduction)\n",
    "    1. [Domestic Ontology](#Domestic-Ontology)\n",
    "    2. [Symbolic Knowledge Base](#Symbolic-Knowledge-Base)\n",
    "    3. [Weak World Model](#Weak-World-Model)\n",
    "2. [The mas_knowledge_base Package](#The-mas_knowledge_base-Package)\n",
    "3. [KB Interaction Examples](#KB-Interaction-Examples)\n",
    "    1. [Interaction with the Ontology](#Interaction-with-the-Ontology)\n",
    "    2. [Interaction with the Symbolic Knowledge Base](#Interaction-with-the-Symbolic-Knowledge-Base)\n",
    "    3. [World Model Interaction](#World-Model-Interaction)\n",
    "4. [KB Embedding Into Our Domestic Architecture](#KB-Embedding-Into-Our-Domestic-Architecture)\n",
    "5. [Summary](#Summary)"
   ]
  },
  {
   "cell_type": "markdown",
   "metadata": {},
   "source": [
    "## Knowledge Base Introduction\n",
    "\n",
    "In order to make informed decisions, a robot needs to possess as much knowledge about the world as possible; this includes background knowledge (which we call encyclopedic knowledge throughout this tutorial) as well as any knowledge that is acquired during online operation.\n",
    "\n",
    "To equip our robots with such knowledge, we build our system around a rich knowledge base. For practical purpose, our knowledge base is split into three segments:\n",
    "\n",
    "1. An *ontology* for encyclopedic knowledge\n",
    "2. A *symbolic knowledge base* that facilitates planning and\n",
    "3. A *(weak) world model* for grounding symbolic knowledge to the real world\n",
    "\n",
    "As described in the [architecture tutorial](architecture.ipynb), we make use of [ROSPlan](https://github.com/KCL-Planning/ROSPlan) [1] in our domestic architecture, so ROSPlan's built-in knowledge base represents our symbolic knowledge base. Similarly, as in ROSPlan, we use [`mongodb_store`](https://github.com/strands-project/mongodb_store) as a world model representation. Our ontology, on the other hand, is heavily based on the [KnowRob ontology](http://www.knowrob.org) [2].\n",
    "\n",
    "---\n",
    "\n",
    "[1] M. Cashmore, M. Fox, D. Long, D. Magazzeni, B. Ridder, A. Carrera, N. Palomeras, N. Hurtos, and M. Carreras, \"ROSPlan: Planning in the Robot Operating System,\" *25th Int. Conf. Automated Planning and Scheduling*, 2015.\n",
    "\n",
    "[2] M. Beetz, D. Beßler, A. Haidu, M. Pomarlan, A. K. Bozcuoglu, and G. Bartels, \"Know Rob 2.0 - A 2nd Generation Knowledge Processing Framework for Cognition-Enabled Robotic Agents\" *IEEE Int. Conf. Robotics and Automation (ICRA)*, pp. 512-519, May 2018."
   ]
  },
  {
   "cell_type": "markdown",
   "metadata": {},
   "source": [
    "### Domestic Ontology\n",
    "\n",
    "Just as the KnowRob ontology, our domestic ontology is encoded in the [Web Ontology Language (OWL)](https://www.w3.org/TR/owl-ref/) (using the RDF syntax). We call our ontology [*the apartment ontology*](https://github.com/b-it-bots/mas_knowledge_base/blob/master/common/ontology/apartment.owl) since it's focused on representing knowledge about concepts that a robot encounters in an apartment.\n",
    "\n",
    "A formal treatment of ontologies and description logic is beyond the scope of this tutorial; for that, we direct the reader to [3]. We will instead consider a simple example to give an idea of what kind of knowledge we encode with the ontology. In particular, let us assume that we want to encode the following knowledge about a certain (unrealistically small) apartment:\n",
    "\n",
    "* There is one room in the apartment - a home office\n",
    "* The home office has a desk whose height is $0.7m$\n",
    "* By default, my coffee mug is stored on the desk\n",
    "\n",
    "In an ontology, knowledge is encoded in two segments:\n",
    "* The *TBox*, which defines classes and properties that are of interest in a particular domain\n",
    "* The *ABox*, which contains class and property assertions\n",
    "\n",
    "To represent the knowledge from our example, we thus first need to define our TBox and then populate the ABox of the ontology.\n",
    "\n",
    "Let us first encode the classes of interest in our domain. In particular, we will define:\n",
    "* two top level classes, namely `Object` and `Room`\n",
    "* `Furniture` and `Drinkware` classes, both of which are children of `Object`\n",
    "* a `Table` class that is a child of `Furniture` and a `WorkTable` class that is a child of `Table`\n",
    "* a `Mug` class that is a child of `Drinkware`\n",
    "\n",
    "We can define these classes in OWL as follows:\n",
    "\n",
    "```\n",
    "<owl:Class rdf:about=\"apartment:Object\"/>\n",
    "<owl:Class rdf:about=\"apartment:Room\"/>\n",
    "\n",
    "<owl:Class rdf:about=\"apartment:Furniture\"/>\n",
    "<owl:Class rdf:about=\"apartment:Table\"/>\n",
    "<owl:Class rdf:about=\"apartment:WorkTable\"/>\n",
    "\n",
    "<owl:Class rdf:about=\"apartment:Drinkware\"/>\n",
    "<owl:Class rdf:about=\"apartment:Mug\"/>\n",
    "```\n",
    "\n",
    "Note that we prefix all class names with the `apartment` prefix; this assigns a namespace to our classes. In the case of imported ontologies, namespaces can serve to avoid clashes with classes that would otherwise have the same name.\n",
    "\n",
    "At this moment, the classes are only defined, but we haven't encoded the parent-child relations that we mentioned before. We can do that as shown below:\n",
    "\n",
    "```\n",
    "<owl:Class rdf:about=\"apartment:Room\">\n",
    "    <rdfs:subClassOf rdf:resource=\"apartment:Location\"/>\n",
    "</owl:Class>\n",
    "<owl:Class rdf:about=\"apartment:Furniture\">\n",
    "    <rdfs:subClassOf rdf:resource=\"apartment:Object\"/>\n",
    "</owl:Class>\n",
    "\n",
    "<owl:Class rdf:about=\"apartment:Table\">\n",
    "    <rdfs:subClassOf rdf:resource=\"apartment:Furniture\"/>\n",
    "</owl:Class>\n",
    "<owl:Class rdf:about=\"apartment:WorkTable\">\n",
    "  <rdfs:subClassOf rdf:resource=\"apartment:Table\"/>\n",
    "</owl:Class>\n",
    "\n",
    "<owl:Class rdf:about=\"apartment:Drinkware\">\n",
    "  <rdfs:subClassOf rdf:resource=\"apartment:Object\"/>\n",
    "</owl:Class>\n",
    "<owl:Class rdf:about=\"apartment:Mug\">\n",
    "  <rdfs:subClassOf rdf:resource=\"apartment:Drinkware\"/>\n",
    "</owl:Class>\n",
    "```\n",
    "\n",
    "Let us now define the properties that are of interest in our example; in particular, we will define properties for encoding:\n",
    "* the room in which an object is\n",
    "* the default storing location of an object (in terms of furniture items) and\n",
    "* the height of an object\n",
    "\n",
    "These properties can be encoded in OWL as follows:\n",
    "\n",
    "```\n",
    "<owl:ObjectProperty rdf:about=\"apartment:locatedIn\">\n",
    "    <rdf:type rdf:resource=\"&owl;FunctionalProperty\" />\n",
    "    <rdfs:domain rdf:resource=\"apartment:Object\"/>\n",
    "    <rdfs:range rdf:resource=\"apartment:Room\"/>\n",
    "</owl:ObjectProperty>\n",
    "\n",
    "<owl:ObjectProperty rdf:about=\"apartment:defaultStoringLocation\">\n",
    "    <rdf:type rdf:resource=\"&owl;FunctionalProperty\" />\n",
    "    <rdfs:domain rdf:resource=\"apartment:Object\"/>\n",
    "    <rdfs:range rdf:resource=\"apartment:Furniture\"/>\n",
    "</owl:ObjectProperty>\n",
    "\n",
    "<owl:ObjectProperty rdf:about=\"apartment:heightOf\">\n",
    "    <rdfs:domain rdf:resource=\"apartment:Object\"/>\n",
    "    <rdfs:range rdf:resource=\"xsd:float\"/>\n",
    "</owl:ObjectProperty>\n",
    "```\n",
    "\n",
    "We are now ready to assert knowledge about our apartment. We will first add some class assertions:\n",
    "\n",
    "```\n",
    "<apartment:Room rdf:about=\"MyHomeOffice\"/>\n",
    "<apartment:WorkTable rdf:about=\"MyDesk\"/>\n",
    "<apartment:Mug rdf:about=\"MyCoffeeMug\"/>\n",
    "```\n",
    "\n",
    "We can now add property asserttion to encode the facts from our example:\n",
    "\n",
    "```\n",
    "<rdf:Description rdf:about=\"MyDesk\">\n",
    "    <apartment:locatedAt rdf:resource=\"MyHomeOffice\"/>\n",
    "</rdf:Description>\n",
    "<rdf:Description rdf:about=\"MyCoffeeMug\">\n",
    "    <apartment:defaultStoringLocation rdf:resource=\"MyDesk\"/>\n",
    "</rdf:Description>\n",
    "<rdf:Description rdf:about=\"MyDesk\">\n",
    "    <apartment:heightOf rdf:resource=\"0.7\"/>\n",
    "</rdf:Description>\n",
    "```\n",
    "\n",
    "This was a very simple example of how we would model knowledge in OWL, but should serve as a primer for more complex modelling tasks.\n",
    "\n",
    "**Note**: In the above example, we assumed that a text editor was used for encoding knowledge in the ontology; this is because we also wanted to illustrate the OWL syntax. In practice, it makes more sense to use a dedicated ontology editor, such as [Protege](https://protege.stanford.edu).\n",
    "\n",
    "---\n",
    "\n",
    "[3] *Handbook of Knowldge Representation.* Elsevier, 1st ed., 2008."
   ]
  },
  {
   "cell_type": "markdown",
   "metadata": {},
   "source": [
    "### Symbolic Knowledge Base\n",
    "\n",
    "The symbolic knowledge base is a collection of predicate assertions that describe the state of the world. For instance, `on(MyCoffeeMug, MyDesk)` asserts that the object with name `MyCoffeeMug` is on the table with name `MyDesk`. Such symbolic descriptions can be used for making informed decisions in general and planning in particular.\n",
    "\n",
    "The predicates we use for describing the world are defined in our [default PDDL domain](https://github.com/b-it-bots/mas_domestic_robotics/blob/kinetic/mdr_planning/mdr_rosplan_interface/config/default_domain.pddl); a subset of those is included here for illustrative purposes:\n",
    "\n",
    "```\n",
    "(robot_name ?bot - robot)\n",
    "(robot_at ?bot - robot ?wp - waypoint)\n",
    "(object_at ?obj - object ?wp - waypoint)\n",
    "(belongs_to ?plane - plane ?obj - object)\n",
    "(explored ?plane - plane)\n",
    "(on ?obj - object ?plane - plane)\n",
    "(in ?obj - object ?source - object)\n",
    "(holding ?bot - robot ?obj - object)\n",
    "(empty_gripper ?bot - robot)\n",
    "(known ?person - person)\n",
    "```\n",
    "\n",
    "The above list is clearly tailored towards domestic applications and contains predicates for describing:\n",
    "* the locations of robots and objects\n",
    "* whether a plane (such as a table) has been examined by a robot\n",
    "* whether the robot is holding an object, and\n",
    "* whether a person observed by a robot is known."
   ]
  },
  {
   "cell_type": "markdown",
   "metadata": {},
   "source": [
    "### Weak World Model\n",
    "\n",
    "While symbolic knowledge is useful for abstract reasoning, robot decisions eventually have to be grounded to the real world. For example, if a robot needs to pick up `MyCoffeeMug`, knowing that `MyCoffeeMug` is on `MyDesk` is sufficient for creating a plan that involves going to `MyDesk` and then picking up `MyCoffeeMug` from it; however, in order to actually go to `MyDesk`, the robot needs to know where the desk actually is, and similarly, in order to pick up the mug from the table, it needs to know where the mug is actually positioned on the table.\n",
    "\n",
    "Since we make use of ROSPlan in our architecture, we utilise `mongodb_store`$^{1}$ for storing such knowledge. `mongodb_store` is a ROS package that allows saving ROS messages into a MongoDB database and retrieving those back. Under the hood, ROS messages are converted into dictionaries that are then stored as MongoDB documents; documents can then be converted back into ROS messages upon retrieval. For our purposes, this means that we can for instance store our custom [object](https://github.com/b-it-bots/mas_perception_msgs/blob/kinetic/msg/Object.msg), [person](https://github.com/b-it-bots/mas_perception_msgs/blob/kinetic/msg/Person.msg), or [plane](https://github.com/b-it-bots/mas_perception_msgs/blob/kinetic/msg/Plane.msg) messages and retrieve them back whenever they are needed during execution. This can thus be thought of as our weak world model that, together with the previously encyclopedic knowledge and the symbolic knowledge base, allows us to program our robots so that they make decisions based on all available knowledge.\n",
    "\n",
    "**Note**: We relate the items stored in the world model, the symbolic knowledge base, and the ontology through their names, namely objects are always given unique names that need to be the same across all three knowledge modalities.\n",
    "\n",
    "---\n",
    "\n",
    "$^1$ We use a slightly modified version of `mongodb_store` that allows deleting objects and makes the package Python 3-compatible: https://github.com/b-it-bots/mongodb_store/commits/kinetic-devel"
   ]
  },
  {
   "cell_type": "markdown",
   "metadata": {},
   "source": [
    "## The mas_knowledge_base Package\n",
    "\n",
    "To simplify the use of the ontology and the knowledge base, we use our ROS-based [`mas_knowledge_base` library](https://github.com/b-it-bots/mas_knowledge_base) which includes:\n",
    "1. Our apartment ontology and some variations thereof (which are for example used at RoboCup competitions)\n",
    "2. A Python interface based on the [rdflib library](https://rdflib.readthedocs.io/en/stable/) that can be used for querying an OWL ontology\n",
    "3. A Python interface for querying knowledge, adding knowledge to, and removing knowledge from the knowledge base and the world model.\n",
    "\n",
    "This library exposes two Python packages:\n",
    "* `mas_knowledge_utils`: A ROS-independent package in which the ontology interface is defined\n",
    "* `mas_knowledge_base`: A ROS-dependent package that interacts with the ROSPlan knowledge base and with mongodb_store. The package is basically a wrapper around ROSPlan's service-based KB management and mongodb_store.\n",
    "\n",
    "In each package, there is one base class that exposes generic functionalities for interacting with the ontology and the knowledge base respectively, and a child class that is tailored to domestic applications (namely exposes functions with queries that are common for domestic applications, such as for instance checking whether a table is free of objects). This design ensures that the packages are generic enough and can be used for other applications as well, but are also specific enough for our domestic use cases.\n",
    "\n",
    "A minimal class diagram illustrating the architecture of the `mas_knowledge_base` library is given below.\n",
    "\n",
    "![mas_knowledge_base diagram](images/mas_knowledge_base_diagram.png)"
   ]
  },
  {
   "cell_type": "markdown",
   "metadata": {},
   "source": [
    "## Ontology and KB Interaction Examples"
   ]
  },
  {
   "cell_type": "markdown",
   "metadata": {},
   "source": [
    "In this section, we will look at various examples of interacting with our domestic ontology and knowledge base. The examples provided here are not exhaustive; a complete description of the interfaces to the ontology and the knowledge base is provided in the [`mas_knowledge_base`](https://github.com/b-it-bots/mas_knowledge_base) documentation, while actual examples of using the packages can be found throughout [`mas_domestic_robotics`](https://github.com/b-it-bots/mas_domestic_robotics).\n",
    "\n",
    "The examples in this section assume that the `mas_knowledge_base` is appropriately set up in a catkin workspace and the path to it is in the `ROS_PACKAGE_PATH` environment variable. Under that assumption, we can import the ontology and knowledge base interfaces (for the examples below, we will also use the [`mas_tools`](https://github.com/b-it-bots/mas_tools) package since it provides a convenient utility for obtaining the path of a ROS package at runtime).\n",
    "\n",
    "Before we start with the examples, we will import the necessary functions and classes."
   ]
  },
  {
   "cell_type": "code",
   "execution_count": 1,
   "metadata": {},
   "outputs": [],
   "source": [
    "from mas_tools.ros_utils import get_package_path\n",
    "from mas_knowledge_utils.domestic_ontology_interface import DomesticOntologyInterface\n",
    "from mas_knowledge_base.domestic_kb_interface import DomesticKBInterface"
   ]
  },
  {
   "cell_type": "markdown",
   "metadata": {},
   "source": [
    "### Interaction with the Ontology\n",
    "\n",
    "To query the ontology, we first have to create an instance of the `DomesticOntologyInterface` class, such that we have to pass\n",
    "\n",
    "1. the absolute path of the ontology OWL file (in the form of a URL - when the ontology is read from a local file, the absolute path to it should be prefixed by `file://`) and\n",
    "2. the namespace of the ontology items (in the example above, that was `apartment`)\n",
    "\n",
    "For the examples, we will use a version of the apartment ontology that was created during the RoboCup German Open 2019 (which was compiled from the environment description provided at https://github.com/RoboCupAtHome/GermanOpen2019)."
   ]
  },
  {
   "cell_type": "code",
   "execution_count": 2,
   "metadata": {},
   "outputs": [],
   "source": [
    "ontology_file_path = get_package_path('mas_knowledge_base',\n",
    "                                      'common', 'ontology',\n",
    "                                      'apartment_go_2019.owl')\n",
    "ontology_class_prefix = 'apartment'\n",
    "ontology_interface = DomesticOntologyInterface('file://' + ontology_file_path,\n",
    "                                               ontology_class_prefix)"
   ]
  },
  {
   "cell_type": "markdown",
   "metadata": {},
   "source": [
    "We can now retrieve knowledge from the ontology. For instance, there is a `KitchenStuff` class there, so we can ask for all the subclasses of this class:"
   ]
  },
  {
   "cell_type": "code",
   "execution_count": 3,
   "metadata": {
    "scrolled": true
   },
   "outputs": [
    {
     "data": {
      "text/plain": [
       "['KitchenStuff', 'Fork', 'Spoon', 'Cup', 'Plate', 'Bowl', 'Knife']"
      ]
     },
     "execution_count": 3,
     "metadata": {},
     "output_type": "execute_result"
    }
   ],
   "source": [
    "ontology_interface.get_subclasses_of('KitchenStuff')"
   ]
  },
  {
   "cell_type": "markdown",
   "metadata": {},
   "source": [
    "It should be noted that a class is a subclass of itself.\n",
    "\n",
    "We can also query for the parents of the class `Spoon`:"
   ]
  },
  {
   "cell_type": "code",
   "execution_count": 4,
   "metadata": {},
   "outputs": [
    {
     "data": {
      "text/plain": [
       "['Spoon', 'KitchenStuff', 'Object']"
      ]
     },
     "execution_count": 4,
     "metadata": {},
     "output_type": "execute_result"
    }
   ],
   "source": [
    "ontology_interface.get_parent_classes_of('Spoon')"
   ]
  },
  {
   "cell_type": "markdown",
   "metadata": {},
   "source": [
    "As above, a class is a parent class of itself.\n",
    "\n",
    "The above queries were performed on the class level, but we can also query asserted knowledge. For instance, we would retreive all instance of the class `Chair` as follows:"
   ]
  },
  {
   "cell_type": "code",
   "execution_count": 5,
   "metadata": {
    "scrolled": false
   },
   "outputs": [
    {
     "data": {
      "text/plain": [
       "['RightArmChair',\n",
       " 'LeftArmChair',\n",
       " 'KitchenTableChair1',\n",
       " 'BarTableChair',\n",
       " 'KitchenTableChair2',\n",
       " 'HighTableChair',\n",
       " 'DeskChair']"
      ]
     },
     "execution_count": 5,
     "metadata": {},
     "output_type": "execute_result"
    }
   ],
   "source": [
    "ontology_interface.get_instances_of('Chair')"
   ]
  },
  {
   "cell_type": "markdown",
   "metadata": {},
   "source": [
    "It should be noted that all of these items are **specific** chairs in the environment; their names are thus unique.\n",
    "\n",
    "We can also query for some property assertions. For instance, we can retrieve all items that are connected to the `Hallway` (in the modelled environment, the hallway is connected to the living room, bar, and bedroom):"
   ]
  },
  {
   "cell_type": "code",
   "execution_count": 6,
   "metadata": {
    "scrolled": false
   },
   "outputs": [
    {
     "data": {
      "text/plain": [
       "['Bar', 'LivingRoom', 'Bedroom']"
      ]
     },
     "execution_count": 6,
     "metadata": {},
     "output_type": "execute_result"
    }
   ],
   "source": [
    "ontology_interface.get_subjects_of('connectedTo', 'Hallway')"
   ]
  },
  {
   "cell_type": "markdown",
   "metadata": {},
   "source": [
    "As another query example, we can obtain all furniture items that are located in the `Bedroom` (in the environment, there is a bed, a desk, and a side table):"
   ]
  },
  {
   "cell_type": "code",
   "execution_count": 7,
   "metadata": {},
   "outputs": [
    {
     "data": {
      "text/plain": [
       "['Desk', 'SideTable', 'Bed']"
      ]
     },
     "execution_count": 7,
     "metadata": {},
     "output_type": "execute_result"
    }
   ],
   "source": [
    "ontology_interface.get_subjects_of('locatedAt', 'Bedroom')"
   ]
  },
  {
   "cell_type": "markdown",
   "metadata": {},
   "source": [
    "The above queries were performed using functions defined in the base ontology interface. Our final example will retrieve the location of the `SideTable` using a function defined in the domestic ontology interface:"
   ]
  },
  {
   "cell_type": "code",
   "execution_count": 8,
   "metadata": {},
   "outputs": [
    {
     "data": {
      "text/plain": [
       "'Bedroom'"
      ]
     },
     "execution_count": 8,
     "metadata": {},
     "output_type": "execute_result"
    }
   ],
   "source": [
    "ontology_interface.get_obj_location('SideTable')"
   ]
  },
  {
   "cell_type": "markdown",
   "metadata": {},
   "source": [
    "### Interaction with the Symbolic Knowledge Base"
   ]
  },
  {
   "cell_type": "markdown",
   "metadata": {},
   "source": [
    "As mentioned before, our knowledge base interface is wrapped around ROSPlan's knowledge base and mongodb_store; hence, it requires both of these to be running before it can be used. An example of how to start the knowledge base and the store database is provided in [our `mdr_rosplan_interface` package](https://github.com/b-it-bots/mas_domestic_robotics/blob/kinetic/mdr_planning/mdr_rosplan_interface/ros/launch/rosplan.launch).\n",
    "\n",
    "Once the knowledge base and the store are initialised, we can create an instance of `DomesticKBInterface`:"
   ]
  },
  {
   "cell_type": "code",
   "execution_count": 9,
   "metadata": {},
   "outputs": [],
   "source": [
    "kb_interface = DomesticKBInterface()"
   ]
  },
  {
   "cell_type": "markdown",
   "metadata": {},
   "source": [
    "To start, let us first retrieve the names of all predicates in our domain:"
   ]
  },
  {
   "cell_type": "code",
   "execution_count": 10,
   "metadata": {},
   "outputs": [
    {
     "data": {
      "text/plain": [
       "['robot_name',\n",
       " 'object_category',\n",
       " 'robot_at',\n",
       " 'door_at',\n",
       " 'object_at',\n",
       " 'plane_at',\n",
       " 'door_open',\n",
       " 'belongs_to',\n",
       " 'unexplored',\n",
       " 'explored',\n",
       " 'on',\n",
       " 'in',\n",
       " 'holding',\n",
       " 'empty_gripper',\n",
       " 'known',\n",
       " 'unknown']"
      ]
     },
     "execution_count": 10,
     "metadata": {},
     "output_type": "execute_result"
    }
   ],
   "source": [
    "kb_interface.get_predicate_names()"
   ]
  },
  {
   "cell_type": "markdown",
   "metadata": {},
   "source": [
    "This is an extended version of the predicates in the [Symbolic Knowledge Base](#Symbolic-Knowledge-Base) section.\n",
    "\n",
    "Let us now assume that our robot `lucy` is in the `kitchen` and that there is an object `waterBottle` on the `desk`. We can assert this knowledge as follows:"
   ]
  },
  {
   "cell_type": "code",
   "execution_count": 11,
   "metadata": {},
   "outputs": [],
   "source": [
    "facts_to_insert = [('robot_at', [('bot', 'lucy'),\n",
    "                                 ('wp', 'kitchen')]),\n",
    "                   ('on', [('obj', 'waterBottle'),\n",
    "                           ('plane', 'desk')])]\n",
    "kb_interface.insert_facts(facts_to_insert)"
   ]
  },
  {
   "cell_type": "markdown",
   "metadata": {},
   "source": [
    "The `insert_facts` function accepts a list of predicates and their named parameter values. These are passed as tuples, namely each entry in the input is a tuple of the form\n",
    "```\n",
    "(predicate_name, predicate_parameter_values)\n",
    "```\n",
    "where `predicate_parameter_values` is a list of `(parameter_name, parameter_value)` tuples. Using the built-in lists and tuples is a deliberate minimalistic design decision that reuses the core functionalities of the language without creating any additional overhead. *All functions in the knowledge base interface use this representation of predicates and their values*.\n",
    "\n",
    "Now that we have asserted the location of the robot `lucy`, we can also retrieve the robot's location using the `get_robot_location` function, which accepts the name of a robot as an argument:"
   ]
  },
  {
   "cell_type": "code",
   "execution_count": 12,
   "metadata": {
    "scrolled": false
   },
   "outputs": [
    {
     "data": {
      "text/plain": [
       "'kitchen'"
      ]
     },
     "execution_count": 12,
     "metadata": {},
     "output_type": "execute_result"
    }
   ],
   "source": [
    "kb_interface.get_robot_location('lucy')"
   ]
  },
  {
   "cell_type": "markdown",
   "metadata": {},
   "source": [
    "Let us now assume that `lucy` has moved and is not in the kitchen anymore. We thus need to remove the fact that the robot is in the kitchen:"
   ]
  },
  {
   "cell_type": "code",
   "execution_count": 13,
   "metadata": {
    "code_folding": []
   },
   "outputs": [],
   "source": [
    "facts_to_remove = [('robot_at', [('bot', 'lucy'),\n",
    "                                 ('wp', 'kitchen')])]\n",
    "kb_interface.remove_facts(facts_to_remove)"
   ]
  },
  {
   "cell_type": "markdown",
   "metadata": {},
   "source": [
    "At this moment, we don't have any asserted knowledge about the location of the robot in the knowledge base, but we can verify that this is really the case:"
   ]
  },
  {
   "cell_type": "code",
   "execution_count": 14,
   "metadata": {},
   "outputs": [
    {
     "data": {
      "text/plain": [
       "''"
      ]
     },
     "execution_count": 14,
     "metadata": {},
     "output_type": "execute_result"
    }
   ],
   "source": [
    "kb_interface.get_robot_location('lucy')"
   ]
  },
  {
   "cell_type": "markdown",
   "metadata": {},
   "source": [
    "Another useful query for domestic scenarios is whether a given surface (e.g. a table) is empty; this is for instance useful in scenarios where a robot needs to remove all objects from a surface. This can be checked using the `is_surface_empty` function, which takes the name of a surface as its single argument. To illustrate the use, let us verify that the `desk` is not empty (above, we asserted the fact that the `waterBottle` is on the `desk`, so the surface should not be empty):"
   ]
  },
  {
   "cell_type": "code",
   "execution_count": 15,
   "metadata": {
    "scrolled": true
   },
   "outputs": [
    {
     "data": {
      "text/plain": [
       "False"
      ]
     },
     "execution_count": 15,
     "metadata": {},
     "output_type": "execute_result"
    }
   ],
   "source": [
    "kb_interface.is_surface_empty('desk')"
   ]
  },
  {
   "cell_type": "markdown",
   "metadata": {},
   "source": [
    "Let us now assume that the bottle has been moved from the desk. If that is the case, the previous location of the bottle needs to be removed from the knowledge base:"
   ]
  },
  {
   "cell_type": "code",
   "execution_count": 16,
   "metadata": {},
   "outputs": [],
   "source": [
    "facts_to_remove = [('on', [('obj', 'waterBottle'),\n",
    "                           ('plane', 'desk')])]\n",
    "kb_interface.remove_facts(facts_to_remove)"
   ]
  },
  {
   "cell_type": "markdown",
   "metadata": {},
   "source": [
    "Since we have not asserted the presence of any other objects on the `desk`, the surface should be empty now. Let us verify that this is indeed the case:"
   ]
  },
  {
   "cell_type": "code",
   "execution_count": 17,
   "metadata": {},
   "outputs": [
    {
     "data": {
      "text/plain": [
       "True"
      ]
     },
     "execution_count": 17,
     "metadata": {},
     "output_type": "execute_result"
    }
   ],
   "source": [
    "kb_interface.is_surface_empty('desk')"
   ]
  },
  {
   "cell_type": "markdown",
   "metadata": {},
   "source": [
    "### World Model Interaction"
   ]
  },
  {
   "cell_type": "markdown",
   "metadata": {},
   "source": [
    "Our final example is very brief and simply illustrates how to use the mongodb_store-based world model.\n",
    "\n",
    "*Note*: These examples can't be run from a Jupyter notebook due to message serialization issues.\n",
    "\n",
    "Let us assume that the 3D position of `MyCoffeeMug` is $(x, y, z) = (0.5, 0.3, 0.0)$ with respect to a `MyDesk` frame. We can represent this using a ROS `PoseStamped` message:"
   ]
  },
  {
   "cell_type": "code",
   "execution_count": null,
   "metadata": {},
   "outputs": [],
   "source": [
    "from geometry_msgs.msg import PoseStamped\n",
    "mug_pose = PoseStamped()\n",
    "mug_pose.header.frame_id = 'MyDesk'\n",
    "mug_pose.pose.position.x = 0.5\n",
    "mug_pose.pose.position.y = 0.3"
   ]
  },
  {
   "cell_type": "markdown",
   "metadata": {},
   "source": [
    "We can store this information in the world model using the `insert_obj_instance` function, where the first argument is the name of the stored object and the second is the object we want to store:"
   ]
  },
  {
   "cell_type": "code",
   "execution_count": null,
   "metadata": {
    "scrolled": false
   },
   "outputs": [],
   "source": [
    "kb_interface.insert_obj_instance('MyCoffeeMug_pose', mug_pose)"
   ]
  },
  {
   "cell_type": "markdown",
   "metadata": {},
   "source": [
    "If we want to retrieve the pose of the mug at some later point (e.g. for grasping), we need to use the `get_obj_instance` function, which takes the name of the stored object as the first argument and the type of the object as the second argument (ROS messages have a `_type` field, which we use here):"
   ]
  },
  {
   "cell_type": "code",
   "execution_count": null,
   "metadata": {},
   "outputs": [],
   "source": [
    "mug_pose = kb_interface.get_obj_instance('MyCoffeeMug_pose', Pose._type)"
   ]
  },
  {
   "cell_type": "markdown",
   "metadata": {},
   "source": [
    "Passing both the name and the type of the stored object is required by mongodb_store and allows retrieving objects that might have the same name, but are of different types.\n",
    "\n",
    "If at some point we want to clean up a stored object from the world model (for instance, `MyCoffeeMug` might be broken, so we don't need to keep track of its pose anymore), we can use the `remove_obj_instance` function, which takes the same arguments as `get_obj_instance`:"
   ]
  },
  {
   "cell_type": "code",
   "execution_count": null,
   "metadata": {},
   "outputs": [],
   "source": [
    "kb_interface.remove_obj_instance('MyCoffeeMug_pose', Pose._type)"
   ]
  },
  {
   "cell_type": "markdown",
   "metadata": {},
   "source": [
    "## KB Embedding Into Our Domestic Architecture\n",
    "\n"
   ]
  },
  {
   "cell_type": "markdown",
   "metadata": {},
   "source": [
    "The primary purpose of having a rich knowledge base is to allow our robots to update their knowledge about the environment as they operate (thereby acting in a closed-loop). As described in the [architecture tutorial](https://github.com/b-it-bots/mas_tutorials/blob/master/domestic_robotics/architecture.ipynb), our architecture is centred around the knowledge base and the ontology. In particular:\n",
    "\n",
    "1. The [base class for implementing action clients](https://github.com/b-it-bots/mas_domestic_robotics/blob/kinetic/mdr_planning/mdr_rosplan_interface/ros/src/mdr_rosplan_interface/action_client_base.py) includes a knowledge base instance. In addition, all action clients need to implement the `update_knowledge_base` function so that each action can update the knowledge base according to the results of their execution. This is in accordance with classical planning, where actions change the state of the world and their effects describe the resulting state.\n",
    "2. The states that inherit from [`ScenarioStateBase`](https://github.com/b-it-bots/mas_execution_manager/blob/master/ros/src/mas_execution_manager/scenario_state_base.py) include instances of both the ontology and the knowledge base interface; the behaviours in [`mdr_behaviours`](https://github.com/b-it-bots/mas_domestic_robotics/tree/kinetic/mdr_planning/mdr_behaviours) are thus all able to interact with the ontology and the knowledge base."
   ]
  },
  {
   "cell_type": "markdown",
   "metadata": {},
   "source": [
    "To illustrate how *action clients* interact with the knowledge base, let us consider the [move_base client](https://github.com/b-it-bots/mas_domestic_robotics/blob/kinetic/mdr_planning/mdr_actions/mdr_navigation_actions/mdr_move_base_action/ros/scripts/move_base_client) and its implementation of `update_knowledge_base`:"
   ]
  },
  {
   "cell_type": "code",
   "execution_count": null,
   "metadata": {},
   "outputs": [],
   "source": [
    "class MoveBaseClient(ActionClientBase):\n",
    "    # the rest of the class implementation is not included\n",
    "    # since it is not relevant for the example\n",
    "\n",
    "    def update_knowledge_base(self, destination_location):\n",
    "        '''Updates the knowledge base with the following facts:\n",
    "        * the robot is not at the original location anymore\n",
    "        * the robot is at the destination location\n",
    "        '''\n",
    "        facts_to_add = [('robot_at', [('bot', self.robot_name),\n",
    "                                      ('wp', destination_location)])]\n",
    "        facts_to_remove = [('robot_at', [('bot', self.robot_name),\n",
    "                                         ('wp', self.original_location)])]\n",
    "        self.kb_interface.update_kb(facts_to_add, facts_to_remove)"
   ]
  },
  {
   "cell_type": "markdown",
   "metadata": {},
   "source": [
    "The knowledge update in this case is rather simple: we add the destination location of the navigation action as the robot's current location (and we remove the location of the robot before starting the navigation since we don't want the robot to think that it's in two places at once).\n",
    "\n",
    "**Note**: This update should obviously only be performed if the action is successfully performed."
   ]
  },
  {
   "cell_type": "markdown",
   "metadata": {},
   "source": [
    "As an illustration of how *states* can use the knowledge base, let us consider the simple [`CheckEmptySurface`](https://github.com/b-it-bots/mas_domestic_robotics/blob/kinetic/mdr_planning/mdr_behaviours/mdr_knowledge_behaviours/ros/src/mdr_knowledge_behaviours/check_empty_surface.py) state, which calls the `is_surface_empty` function that we looked at before and returns an appropriate state transition based on the result. The implementation of this state is included below for convenience:"
   ]
  },
  {
   "cell_type": "code",
   "execution_count": null,
   "metadata": {},
   "outputs": [],
   "source": [
    "from mas_execution_manager.scenario_state_base import ScenarioStateBase\n",
    "\n",
    "class CheckEmptySurface(ScenarioStateBase):\n",
    "    def __init__(self, save_sm_state=False, **kwargs):\n",
    "        ScenarioStateBase.__init__(self, 'check_empty_surface',\n",
    "                                   save_sm_state=save_sm_state,\n",
    "                                   outcomes=['empty', 'not_empty'])\n",
    "        self.sm_id = kwargs.get('sm_id', '')\n",
    "        self.state_name = kwargs.get('state_name', 'check_empty_surface')\n",
    "        self.surface_prefix = kwargs.get('surface_prefix', '')\n",
    "\n",
    "    def execute(self, userdata):\n",
    "        if self.kb_interface.is_surface_empty(self.surface_prefix):\n",
    "            self.say('{0} is empty'.format(self.surface_prefix))\n",
    "            return 'empty'\n",
    "        return 'not_empty'"
   ]
  },
  {
   "cell_type": "markdown",
   "metadata": {},
   "source": [
    "An example of a state that interacts with the ontology instead of the online knowledge base is given in the implementation addressing the [RoboCup@Home where is this task](https://github.com/b-it-bots/mas_domestic_robotics/blob/kinetic/mdr_planning/mdr_scenarios/mdr_robocup_tasks/mdr_where_is_this/ros/src/mdr_where_is_this/scenario_states/describe_location.py); there, we query the ontology for the location of objects since we need to explain (in natural language) where a certain item (e.g. the couch) can be found in the environment."
   ]
  },
  {
   "cell_type": "markdown",
   "metadata": {},
   "source": [
    "## Summary\n",
    "\n",
    "This short tutorial briefly discussed why a domestic robot needs to possess as much knowledge as possible, how we deal with the problem of knowledge modelling and representation, what kind of tools we have developed for interacting with our knowledge base, as well as how those tools are used throughout our domestic code base.\n",
    "\n",
    "The most important highlights are as follows:\n",
    "* Our knowledge base is split into three segments (encyclopedic knowledge represented in an OWL ontology, symbolic knowledge base using ROSPlan, and a simple world model using mongodb_store)\n",
    "* Our `mas_knowledge_base` package defines utilities for interacting with the three elements of the knowledge base\n",
    "* Both action clients and states from which behaviours are composed are able to interact with and update the knowledge base\n",
    "\n",
    "More advanced examples of how we use the knowledge base can be found throughout the `mas_domestic_robotics` repository, particularly in the [`mdr_planning`](https://github.com/b-it-bots/mas_domestic_robotics/tree/kinetic/mdr_planning) metapackage."
   ]
  },
  {
   "cell_type": "markdown",
   "metadata": {},
   "source": [
    "## About This Tutorial\n",
    "\n",
    "**Author(s)**: Alex Mitrevski\n",
    "\n",
    "**Last update**: 20.09.2019"
   ]
  }
 ],
 "metadata": {
  "kernelspec": {
   "display_name": "Python 2",
   "language": "python",
   "name": "python2"
  },
  "language_info": {
   "codemirror_mode": {
    "name": "ipython",
    "version": 3
   },
   "file_extension": ".py",
   "mimetype": "text/x-python",
   "name": "python",
   "nbconvert_exporter": "python",
   "pygments_lexer": "ipython3",
   "version": "3.5.2"
  }
 },
 "nbformat": 4,
 "nbformat_minor": 2
}
